{
 "cells": [
  {
   "cell_type": "code",
   "execution_count": 1,
   "metadata": {},
   "outputs": [],
   "source": [
    "from dejavu import Dejavu\n",
    "config = {\n",
    "\"database\": {\n",
    "\"host\": \"127.0.0.1\",\n",
    "\"user\": \"user\",\n",
    "\"password\": \"password\", \n",
    "\"database\": \"dejavu\"\n",
    "     }\n",
    "}\n",
    "djv = Dejavu(config)"
   ]
  },
  {
   "cell_type": "code",
   "execution_count": 2,
   "metadata": {},
   "outputs": [
    {
     "name": "stdout",
     "output_type": "stream",
     "text": [
      "mp3/Choc--Eigenvalue-Subspace-Decomposition.mp3 already fingerprinted, continuing...\n",
      "mp3/The-Lights-Galaxia--While-She-Sleeps.mp3 already fingerprinted, continuing...\n",
      "mp3/Brad-Sucks--Total-Breakdown.mp3 already fingerprinted, continuing...\n",
      "mp3/Sean-Fournier--Falling-For-You.mp3 already fingerprinted, continuing...\n",
      "mp3/lux_ad.mp3 already fingerprinted, continuing...\n",
      "mp3/Josh-Woodward--I-Want-To-Destroy-Something-Beautiful.mp3 already fingerprinted, continuing...\n"
     ]
    }
   ],
   "source": [
    "djv.fingerprint_directory(\"mp3\", [\".mp3\"], 3)"
   ]
  },
  {
   "cell_type": "code",
   "execution_count": 3,
   "metadata": {},
   "outputs": [
    {
     "name": "stdout",
     "output_type": "stream",
     "text": [
      "349912\n"
     ]
    }
   ],
   "source": [
    "print (djv.db.get_num_fingerprints())"
   ]
  },
  {
   "cell_type": "code",
   "execution_count": 4,
   "metadata": {},
   "outputs": [
    {
     "data": {
      "text/plain": [
       "{'total_time': 1.118058443069458,\n",
       " 'fingerprint_time': np.float64(0.9501199722290039),\n",
       " 'query_time': 0.1339123249053955,\n",
       " 'align_time': 0.023914575576782227,\n",
       " 'results': [{'song_id': 6,\n",
       "   'song_name': b'lux_ad',\n",
       "   'input_total_hashes': 17679,\n",
       "   'fingerprinted_hashes_in_db': 1998,\n",
       "   'hashes_matched_in_input': 707,\n",
       "   'input_confidence': 0.04,\n",
       "   'fingerprinted_confidence': 0.35,\n",
       "   'offset': np.int64(-409),\n",
       "   'offset_seconds': -18.99392,\n",
       "   'file_sha1': b'464C947BBF6F564BB8B2A905F0A718C55E718FD2'},\n",
       "  {'song_id': 4,\n",
       "   'song_name': b'Sean-Fournier--Falling-For-You',\n",
       "   'input_total_hashes': 17679,\n",
       "   'fingerprinted_hashes_in_db': 109241,\n",
       "   'hashes_matched_in_input': 3171,\n",
       "   'input_confidence': 0.18,\n",
       "   'fingerprinted_confidence': 0.03,\n",
       "   'offset': np.int64(1594),\n",
       "   'offset_seconds': 74.02522,\n",
       "   'file_sha1': b'A9D18B9B9DAA467350D1B6B249C36759282B962E'}]}"
      ]
     },
     "execution_count": 4,
     "metadata": {},
     "output_type": "execute_result"
    }
   ],
   "source": [
    "from dejavu.logic.recognizer.file_recognizer import FileRecognizer\n",
    "song = djv.recognize(FileRecognizer, \"test/Khagrachari_Teacher_Jamuna_TV.mp3\")\n",
    "song"
   ]
  },
  {
   "cell_type": "code",
   "execution_count": 5,
   "metadata": {},
   "outputs": [
    {
     "data": {
      "text/plain": [
       "{'total_time': 0.46658778190612793,\n",
       " 'fingerprint_time': np.float64(0.3731527328491211),\n",
       " 'query_time': 0.07047390937805176,\n",
       " 'align_time': 0.01915574073791504,\n",
       " 'results': [{'song_id': 6,\n",
       "   'song_name': b'lux_ad',\n",
       "   'input_total_hashes': 9063,\n",
       "   'fingerprinted_hashes_in_db': 1998,\n",
       "   'hashes_matched_in_input': 183,\n",
       "   'input_confidence': 0.02,\n",
       "   'fingerprinted_confidence': 0.09,\n",
       "   'offset': np.int64(-227),\n",
       "   'offset_seconds': -10.54186,\n",
       "   'file_sha1': b'464C947BBF6F564BB8B2A905F0A718C55E718FD2'},\n",
       "  {'song_id': 1,\n",
       "   'song_name': b'Brad-Sucks--Total-Breakdown',\n",
       "   'input_total_hashes': 9063,\n",
       "   'fingerprinted_hashes_in_db': 75062,\n",
       "   'hashes_matched_in_input': 763,\n",
       "   'input_confidence': 0.08,\n",
       "   'fingerprinted_confidence': 0.01,\n",
       "   'offset': np.int64(-108),\n",
       "   'offset_seconds': -5.01551,\n",
       "   'file_sha1': b'02A83F248EFDA76A46C8B2AC97798D2CE9BC1FBE'}]}"
      ]
     },
     "execution_count": 5,
     "metadata": {},
     "output_type": "execute_result"
    }
   ],
   "source": [
    "djv.recognize(FileRecognizer, \"test/Magistracy_Power_Jamuna_TV.mp3\")"
   ]
  },
  {
   "cell_type": "code",
   "execution_count": null,
   "metadata": {},
   "outputs": [
    {
     "data": {
      "text/plain": [
       "{'total_time': 0.46658778190612793,\n",
       " 'fingerprint_time': np.float64(0.3731527328491211),\n",
       " 'query_time': 0.07047390937805176,\n",
       " 'align_time': 0.01915574073791504,\n",
       " 'results': [{'song_id': 6,\n",
       "   'song_name': b'lux_ad',\n",
       "   'input_total_hashes': 9063,\n",
       "   'fingerprinted_hashes_in_db': 1998,\n",
       "   'hashes_matched_in_input': 183,\n",
       "   'input_confidence': 0.02,\n",
       "   'fingerprinted_confidence': 0.09,\n",
       "   'offset': np.int64(-227),\n",
       "   'offset_seconds': -10.54186,\n",
       "   'file_sha1': b'464C947BBF6F564BB8B2A905F0A718C55E718FD2'},\n",
       "  {'song_id': 1,\n",
       "   'song_name': b'Brad-Sucks--Total-Breakdown',\n",
       "   'input_total_hashes': 9063,\n",
       "   'fingerprinted_hashes_in_db': 75062,\n",
       "   'hashes_matched_in_input': 763,\n",
       "   'input_confidence': 0.08,\n",
       "   'fingerprinted_confidence': 0.01,\n",
       "   'offset': np.int64(-108),\n",
       "   'offset_seconds': -5.01551,\n",
       "   'file_sha1': b'02A83F248EFDA76A46C8B2AC97798D2CE9BC1FBE'}]}"
      ]
     },
     "metadata": {},
     "output_type": "display_data"
    }
   ],
   "source": [
    "djv.recognize(FileRecognizer, \"test/Magistracy_Power_Jamuna_TV.mp3\")"
   ]
  },
  {
   "cell_type": "code",
   "execution_count": 6,
   "metadata": {},
   "outputs": [],
   "source": [
    "import os"
   ]
  },
  {
   "cell_type": "code",
   "execution_count": 10,
   "metadata": {},
   "outputs": [
    {
     "name": "stdout",
     "output_type": "stream",
     "text": [
      "######################\n",
      "JAWNY-Honeypie.mp3\n",
      "######################\n",
      "{'total_time': 1.6212201118469238, 'fingerprint_time': np.float64(1.0025758743286133), 'query_time': 0.5084125995635986, 'align_time': 0.09132218360900879, 'results': [{'song_id': 4, 'song_name': b'Sean-Fournier--Falling-For-You', 'input_total_hashes': 70349, 'fingerprinted_hashes_in_db': 109241, 'hashes_matched_in_input': 8726, 'input_confidence': 0.12, 'fingerprinted_confidence': 0.08, 'offset': np.int64(1622), 'offset_seconds': 75.32553, 'file_sha1': b'A9D18B9B9DAA467350D1B6B249C36759282B962E'}, {'song_id': 1, 'song_name': b'Brad-Sucks--Total-Breakdown', 'input_total_hashes': 70349, 'fingerprinted_hashes_in_db': 75062, 'hashes_matched_in_input': 4704, 'input_confidence': 0.07, 'fingerprinted_confidence': 0.06, 'offset': np.int64(-1123), 'offset_seconds': -52.15202, 'file_sha1': b'02A83F248EFDA76A46C8B2AC97798D2CE9BC1FBE'}]}\n",
      "#####################################\n",
      "Khagrachari_Teacher_Jamuna_TV.mp3\n",
      "#####################################\n",
      "{'total_time': 0.9977772235870361, 'fingerprint_time': np.float64(0.8219192028045654), 'query_time': 0.13936853408813477, 'align_time': 0.025578975677490234, 'results': [{'song_id': 6, 'song_name': b'lux_ad', 'input_total_hashes': 17679, 'fingerprinted_hashes_in_db': 1998, 'hashes_matched_in_input': 707, 'input_confidence': 0.04, 'fingerprinted_confidence': 0.35, 'offset': np.int64(-409), 'offset_seconds': -18.99392, 'file_sha1': b'464C947BBF6F564BB8B2A905F0A718C55E718FD2'}, {'song_id': 4, 'song_name': b'Sean-Fournier--Falling-For-You', 'input_total_hashes': 17679, 'fingerprinted_hashes_in_db': 109241, 'hashes_matched_in_input': 3171, 'input_confidence': 0.18, 'fingerprinted_confidence': 0.03, 'offset': np.int64(1594), 'offset_seconds': 74.02522, 'file_sha1': b'A9D18B9B9DAA467350D1B6B249C36759282B962E'}]}\n",
      "###################################################\n",
      "Joe_Satriani-Always_With_Me_Always_With_You.mp3\n",
      "###################################################\n",
      "{'total_time': 2.3987488746643066, 'fingerprint_time': np.float64(1.7341623306274414), 'query_time': 0.5472984313964844, 'align_time': 0.09173822402954102, 'results': [{'song_id': 4, 'song_name': b'Sean-Fournier--Falling-For-You', 'input_total_hashes': 77455, 'fingerprinted_hashes_in_db': 109241, 'hashes_matched_in_input': 9723, 'input_confidence': 0.13, 'fingerprinted_confidence': 0.09, 'offset': np.int64(837), 'offset_seconds': 38.8702, 'file_sha1': b'A9D18B9B9DAA467350D1B6B249C36759282B962E'}, {'song_id': 5, 'song_name': b'Josh-Woodward--I-Want-To-Destroy-Something-Beautiful', 'input_total_hashes': 77455, 'fingerprinted_hashes_in_db': 76168, 'hashes_matched_in_input': 5895, 'input_confidence': 0.08, 'fingerprinted_confidence': 0.08, 'offset': np.int64(91), 'offset_seconds': 4.22603, 'file_sha1': b'C6364099D8E0DC297956EC9D8B2AC1B83403D407'}]}\n",
      "##################################\n",
      "Magistracy_Power_Jamuna_TV.mp3\n",
      "##################################\n",
      "{'total_time': 0.47362732887268066, 'fingerprint_time': np.float64(0.374098539352417), 'query_time': 0.07190060615539551, 'align_time': 0.020893096923828125, 'results': [{'song_id': 6, 'song_name': b'lux_ad', 'input_total_hashes': 9063, 'fingerprinted_hashes_in_db': 1998, 'hashes_matched_in_input': 183, 'input_confidence': 0.02, 'fingerprinted_confidence': 0.09, 'offset': np.int64(-227), 'offset_seconds': -10.54186, 'file_sha1': b'464C947BBF6F564BB8B2A905F0A718C55E718FD2'}, {'song_id': 1, 'song_name': b'Brad-Sucks--Total-Breakdown', 'input_total_hashes': 9063, 'fingerprinted_hashes_in_db': 75062, 'hashes_matched_in_input': 763, 'input_confidence': 0.08, 'fingerprinted_confidence': 0.01, 'offset': np.int64(-108), 'offset_seconds': -5.01551, 'file_sha1': b'02A83F248EFDA76A46C8B2AC97798D2CE9BC1FBE'}]}\n"
     ]
    }
   ],
   "source": [
    "for filename in os.listdir(\"test\"):\n",
    "    if not filename.endswith(\".mp3\"):\n",
    "        continue \n",
    "    print(\"#\"*(4+len(filename)))\n",
    "    print(filename)\n",
    "    print(\"#\"*(4+len(filename)))\n",
    "    print(djv.recognize(FileRecognizer, f\"test/{filename}\"))"
   ]
  }
 ],
 "metadata": {
  "kernelspec": {
   "display_name": "dejavu",
   "language": "python",
   "name": "python3"
  },
  "language_info": {
   "codemirror_mode": {
    "name": "ipython",
    "version": 3
   },
   "file_extension": ".py",
   "mimetype": "text/x-python",
   "name": "python",
   "nbconvert_exporter": "python",
   "pygments_lexer": "ipython3",
   "version": "3.11.10"
  }
 },
 "nbformat": 4,
 "nbformat_minor": 2
}
